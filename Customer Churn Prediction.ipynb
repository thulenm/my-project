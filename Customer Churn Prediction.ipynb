{
 "cells": [
  {
   "cell_type": "code",
   "execution_count": 1,
   "id": "8f97d122",
   "metadata": {},
   "outputs": [],
   "source": [
    "# Import packages for data manipulation\n",
    "import pandas as pd\n",
    "import numpy as np\n",
    "import seaborn as sns\n",
    "import matplotlib.pyplot as plt\n",
    "import statsmodels.api as sm"
   ]
  },
  {
   "cell_type": "code",
   "execution_count": 2,
   "id": "1ebfe531",
   "metadata": {},
   "outputs": [
    {
     "name": "stdout",
     "output_type": "stream",
     "text": [
      "Requirement already satisfied: openpyxl in c:\\users\\thu\\anaconda3\\envs\\smm636\\lib\\site-packages (3.1.5)\n",
      "Requirement already satisfied: et-xmlfile in c:\\users\\thu\\anaconda3\\envs\\smm636\\lib\\site-packages (from openpyxl) (2.0.0)\n",
      "Note: you may need to restart the kernel to use updated packages.\n"
     ]
    }
   ],
   "source": [
    "pip install openpyxl"
   ]
  },
  {
   "cell_type": "code",
   "execution_count": 3,
   "id": "777894b9",
   "metadata": {},
   "outputs": [],
   "source": [
    "import openpyxl"
   ]
  },
  {
   "cell_type": "code",
   "execution_count": 4,
   "id": "1596f5a9",
   "metadata": {},
   "outputs": [],
   "source": [
    "# Import data\n",
    "data = pd.read_excel('cleaned_gym_churn_data.xlsx')"
   ]
  },
  {
   "cell_type": "code",
   "execution_count": 5,
   "id": "4331ad94",
   "metadata": {},
   "outputs": [
    {
     "data": {
      "text/html": [
       "<div>\n",
       "<style scoped>\n",
       "    .dataframe tbody tr th:only-of-type {\n",
       "        vertical-align: middle;\n",
       "    }\n",
       "\n",
       "    .dataframe tbody tr th {\n",
       "        vertical-align: top;\n",
       "    }\n",
       "\n",
       "    .dataframe thead th {\n",
       "        text-align: right;\n",
       "    }\n",
       "</style>\n",
       "<table border=\"1\" class=\"dataframe\">\n",
       "  <thead>\n",
       "    <tr style=\"text-align: right;\">\n",
       "      <th></th>\n",
       "      <th>Customer ID</th>\n",
       "      <th>gender</th>\n",
       "      <th>Near_Location</th>\n",
       "      <th>Partner</th>\n",
       "      <th>Promo_friends</th>\n",
       "      <th>Phone</th>\n",
       "      <th>Contract_plan</th>\n",
       "      <th>Group_visits</th>\n",
       "      <th>Age</th>\n",
       "      <th>Avg_additional_charges_total</th>\n",
       "      <th>Month_to_end_contract</th>\n",
       "      <th>Lifetime</th>\n",
       "      <th>Avg_class_frequency_total</th>\n",
       "      <th>Avg_class_frequency_current_month</th>\n",
       "      <th>Churn</th>\n",
       "      <th>Contract_period</th>\n",
       "      <th>Contract_renew_potential</th>\n",
       "    </tr>\n",
       "  </thead>\n",
       "  <tbody>\n",
       "    <tr>\n",
       "      <th>0</th>\n",
       "      <td>1</td>\n",
       "      <td>1</td>\n",
       "      <td>1</td>\n",
       "      <td>1</td>\n",
       "      <td>1</td>\n",
       "      <td>0</td>\n",
       "      <td>6</td>\n",
       "      <td>1</td>\n",
       "      <td>29</td>\n",
       "      <td>14.227470</td>\n",
       "      <td>5</td>\n",
       "      <td>3</td>\n",
       "      <td>0.020398</td>\n",
       "      <td>0.000000</td>\n",
       "      <td>0</td>\n",
       "      <td>8</td>\n",
       "      <td>1</td>\n",
       "    </tr>\n",
       "    <tr>\n",
       "      <th>1</th>\n",
       "      <td>2</td>\n",
       "      <td>0</td>\n",
       "      <td>1</td>\n",
       "      <td>0</td>\n",
       "      <td>0</td>\n",
       "      <td>1</td>\n",
       "      <td>12</td>\n",
       "      <td>1</td>\n",
       "      <td>31</td>\n",
       "      <td>113.202938</td>\n",
       "      <td>12</td>\n",
       "      <td>7</td>\n",
       "      <td>1.922936</td>\n",
       "      <td>1.910244</td>\n",
       "      <td>0</td>\n",
       "      <td>19</td>\n",
       "      <td>1</td>\n",
       "    </tr>\n",
       "    <tr>\n",
       "      <th>2</th>\n",
       "      <td>3</td>\n",
       "      <td>0</td>\n",
       "      <td>1</td>\n",
       "      <td>1</td>\n",
       "      <td>0</td>\n",
       "      <td>1</td>\n",
       "      <td>1</td>\n",
       "      <td>0</td>\n",
       "      <td>28</td>\n",
       "      <td>129.448479</td>\n",
       "      <td>1</td>\n",
       "      <td>2</td>\n",
       "      <td>1.859098</td>\n",
       "      <td>1.736502</td>\n",
       "      <td>0</td>\n",
       "      <td>3</td>\n",
       "      <td>1</td>\n",
       "    </tr>\n",
       "    <tr>\n",
       "      <th>3</th>\n",
       "      <td>4</td>\n",
       "      <td>0</td>\n",
       "      <td>1</td>\n",
       "      <td>1</td>\n",
       "      <td>1</td>\n",
       "      <td>1</td>\n",
       "      <td>12</td>\n",
       "      <td>1</td>\n",
       "      <td>33</td>\n",
       "      <td>62.669863</td>\n",
       "      <td>12</td>\n",
       "      <td>2</td>\n",
       "      <td>3.205633</td>\n",
       "      <td>3.357215</td>\n",
       "      <td>0</td>\n",
       "      <td>14</td>\n",
       "      <td>1</td>\n",
       "    </tr>\n",
       "    <tr>\n",
       "      <th>4</th>\n",
       "      <td>5</td>\n",
       "      <td>1</td>\n",
       "      <td>1</td>\n",
       "      <td>1</td>\n",
       "      <td>1</td>\n",
       "      <td>1</td>\n",
       "      <td>1</td>\n",
       "      <td>0</td>\n",
       "      <td>26</td>\n",
       "      <td>198.362265</td>\n",
       "      <td>1</td>\n",
       "      <td>3</td>\n",
       "      <td>1.113884</td>\n",
       "      <td>1.120078</td>\n",
       "      <td>0</td>\n",
       "      <td>4</td>\n",
       "      <td>1</td>\n",
       "    </tr>\n",
       "  </tbody>\n",
       "</table>\n",
       "</div>"
      ],
      "text/plain": [
       "   Customer ID  gender  Near_Location  Partner  Promo_friends  Phone  \\\n",
       "0            1       1              1        1              1      0   \n",
       "1            2       0              1        0              0      1   \n",
       "2            3       0              1        1              0      1   \n",
       "3            4       0              1        1              1      1   \n",
       "4            5       1              1        1              1      1   \n",
       "\n",
       "   Contract_plan  Group_visits  Age  Avg_additional_charges_total  \\\n",
       "0              6             1   29                     14.227470   \n",
       "1             12             1   31                    113.202938   \n",
       "2              1             0   28                    129.448479   \n",
       "3             12             1   33                     62.669863   \n",
       "4              1             0   26                    198.362265   \n",
       "\n",
       "   Month_to_end_contract  Lifetime  Avg_class_frequency_total  \\\n",
       "0                      5         3                   0.020398   \n",
       "1                     12         7                   1.922936   \n",
       "2                      1         2                   1.859098   \n",
       "3                     12         2                   3.205633   \n",
       "4                      1         3                   1.113884   \n",
       "\n",
       "   Avg_class_frequency_current_month  Churn  Contract_period  \\\n",
       "0                           0.000000      0                8   \n",
       "1                           1.910244      0               19   \n",
       "2                           1.736502      0                3   \n",
       "3                           3.357215      0               14   \n",
       "4                           1.120078      0                4   \n",
       "\n",
       "   Contract_renew_potential  \n",
       "0                         1  \n",
       "1                         1  \n",
       "2                         1  \n",
       "3                         1  \n",
       "4                         1  "
      ]
     },
     "execution_count": 5,
     "metadata": {},
     "output_type": "execute_result"
    }
   ],
   "source": [
    "# An overview of the dataset\n",
    "data.head()"
   ]
  },
  {
   "cell_type": "code",
   "execution_count": 6,
   "id": "6e2a5652",
   "metadata": {},
   "outputs": [],
   "source": [
    "# Remove unused columns\n",
    "data = data.drop(columns = ['Customer ID','Phone'])"
   ]
  },
  {
   "cell_type": "code",
   "execution_count": 7,
   "id": "6d230082",
   "metadata": {},
   "outputs": [
    {
     "data": {
      "text/html": [
       "<div>\n",
       "<style scoped>\n",
       "    .dataframe tbody tr th:only-of-type {\n",
       "        vertical-align: middle;\n",
       "    }\n",
       "\n",
       "    .dataframe tbody tr th {\n",
       "        vertical-align: top;\n",
       "    }\n",
       "\n",
       "    .dataframe thead th {\n",
       "        text-align: right;\n",
       "    }\n",
       "</style>\n",
       "<table border=\"1\" class=\"dataframe\">\n",
       "  <thead>\n",
       "    <tr style=\"text-align: right;\">\n",
       "      <th></th>\n",
       "      <th>gender</th>\n",
       "      <th>Near_Location</th>\n",
       "      <th>Partner</th>\n",
       "      <th>Promo_friends</th>\n",
       "      <th>Contract_plan</th>\n",
       "      <th>Group_visits</th>\n",
       "      <th>Age</th>\n",
       "      <th>Avg_additional_charges_total</th>\n",
       "      <th>Month_to_end_contract</th>\n",
       "      <th>Lifetime</th>\n",
       "      <th>Avg_class_frequency_total</th>\n",
       "      <th>Avg_class_frequency_current_month</th>\n",
       "      <th>Churn</th>\n",
       "      <th>Contract_period</th>\n",
       "      <th>Contract_renew_potential</th>\n",
       "    </tr>\n",
       "  </thead>\n",
       "  <tbody>\n",
       "    <tr>\n",
       "      <th>gender</th>\n",
       "      <td>1.000000</td>\n",
       "      <td>0.006699</td>\n",
       "      <td>-0.010463</td>\n",
       "      <td>-0.005033</td>\n",
       "      <td>0.000502</td>\n",
       "      <td>0.017879</td>\n",
       "      <td>0.013807</td>\n",
       "      <td>-0.009334</td>\n",
       "      <td>-0.001281</td>\n",
       "      <td>0.013579</td>\n",
       "      <td>0.014620</td>\n",
       "      <td>0.009156</td>\n",
       "      <td>0.000708</td>\n",
       "      <td>0.007519</td>\n",
       "      <td>0.016590</td>\n",
       "    </tr>\n",
       "    <tr>\n",
       "      <th>Near_Location</th>\n",
       "      <td>0.006699</td>\n",
       "      <td>1.000000</td>\n",
       "      <td>-0.005119</td>\n",
       "      <td>0.210964</td>\n",
       "      <td>0.150233</td>\n",
       "      <td>0.154728</td>\n",
       "      <td>0.058358</td>\n",
       "      <td>0.040761</td>\n",
       "      <td>0.143961</td>\n",
       "      <td>0.070921</td>\n",
       "      <td>0.043127</td>\n",
       "      <td>0.062664</td>\n",
       "      <td>-0.128098</td>\n",
       "      <td>0.143519</td>\n",
       "      <td>0.020710</td>\n",
       "    </tr>\n",
       "    <tr>\n",
       "      <th>Partner</th>\n",
       "      <td>-0.010463</td>\n",
       "      <td>-0.005119</td>\n",
       "      <td>1.000000</td>\n",
       "      <td>0.451960</td>\n",
       "      <td>0.306166</td>\n",
       "      <td>0.022710</td>\n",
       "      <td>0.047480</td>\n",
       "      <td>0.022941</td>\n",
       "      <td>0.294632</td>\n",
       "      <td>0.061229</td>\n",
       "      <td>0.024938</td>\n",
       "      <td>0.045561</td>\n",
       "      <td>-0.157986</td>\n",
       "      <td>0.241782</td>\n",
       "      <td>0.035388</td>\n",
       "    </tr>\n",
       "    <tr>\n",
       "      <th>Promo_friends</th>\n",
       "      <td>-0.005033</td>\n",
       "      <td>0.210964</td>\n",
       "      <td>0.451960</td>\n",
       "      <td>1.000000</td>\n",
       "      <td>0.244552</td>\n",
       "      <td>0.120170</td>\n",
       "      <td>0.050113</td>\n",
       "      <td>0.036898</td>\n",
       "      <td>0.239553</td>\n",
       "      <td>0.072721</td>\n",
       "      <td>0.028063</td>\n",
       "      <td>0.053768</td>\n",
       "      <td>-0.162233</td>\n",
       "      <td>0.210782</td>\n",
       "      <td>0.038764</td>\n",
       "    </tr>\n",
       "    <tr>\n",
       "      <th>Contract_plan</th>\n",
       "      <td>0.000502</td>\n",
       "      <td>0.150233</td>\n",
       "      <td>0.306166</td>\n",
       "      <td>0.244552</td>\n",
       "      <td>1.000000</td>\n",
       "      <td>0.169991</td>\n",
       "      <td>0.138249</td>\n",
       "      <td>0.111445</td>\n",
       "      <td>0.973064</td>\n",
       "      <td>0.170725</td>\n",
       "      <td>0.096211</td>\n",
       "      <td>0.159407</td>\n",
       "      <td>-0.389984</td>\n",
       "      <td>0.779024</td>\n",
       "      <td>0.015712</td>\n",
       "    </tr>\n",
       "    <tr>\n",
       "      <th>Group_visits</th>\n",
       "      <td>0.017879</td>\n",
       "      <td>0.154728</td>\n",
       "      <td>0.022710</td>\n",
       "      <td>0.120170</td>\n",
       "      <td>0.169991</td>\n",
       "      <td>1.000000</td>\n",
       "      <td>0.080934</td>\n",
       "      <td>0.032079</td>\n",
       "      <td>0.163703</td>\n",
       "      <td>0.075853</td>\n",
       "      <td>0.056695</td>\n",
       "      <td>0.075923</td>\n",
       "      <td>-0.175325</td>\n",
       "      <td>0.160233</td>\n",
       "      <td>0.033988</td>\n",
       "    </tr>\n",
       "    <tr>\n",
       "      <th>Age</th>\n",
       "      <td>0.013807</td>\n",
       "      <td>0.058358</td>\n",
       "      <td>0.047480</td>\n",
       "      <td>0.050113</td>\n",
       "      <td>0.138249</td>\n",
       "      <td>0.080934</td>\n",
       "      <td>1.000000</td>\n",
       "      <td>0.080240</td>\n",
       "      <td>0.134511</td>\n",
       "      <td>0.164693</td>\n",
       "      <td>0.119953</td>\n",
       "      <td>0.183095</td>\n",
       "      <td>-0.404735</td>\n",
       "      <td>0.195025</td>\n",
       "      <td>0.150153</td>\n",
       "    </tr>\n",
       "    <tr>\n",
       "      <th>Avg_additional_charges_total</th>\n",
       "      <td>-0.009334</td>\n",
       "      <td>0.040761</td>\n",
       "      <td>0.022941</td>\n",
       "      <td>0.036898</td>\n",
       "      <td>0.111445</td>\n",
       "      <td>0.032079</td>\n",
       "      <td>0.080240</td>\n",
       "      <td>1.000000</td>\n",
       "      <td>0.113958</td>\n",
       "      <td>0.079028</td>\n",
       "      <td>0.044426</td>\n",
       "      <td>0.079570</td>\n",
       "      <td>-0.198697</td>\n",
       "      <td>0.127776</td>\n",
       "      <td>0.077465</td>\n",
       "    </tr>\n",
       "    <tr>\n",
       "      <th>Month_to_end_contract</th>\n",
       "      <td>-0.001281</td>\n",
       "      <td>0.143961</td>\n",
       "      <td>0.294632</td>\n",
       "      <td>0.239553</td>\n",
       "      <td>0.973064</td>\n",
       "      <td>0.163703</td>\n",
       "      <td>0.134511</td>\n",
       "      <td>0.113958</td>\n",
       "      <td>1.000000</td>\n",
       "      <td>0.161078</td>\n",
       "      <td>0.085387</td>\n",
       "      <td>0.147605</td>\n",
       "      <td>-0.381393</td>\n",
       "      <td>0.791691</td>\n",
       "      <td>0.089012</td>\n",
       "    </tr>\n",
       "    <tr>\n",
       "      <th>Lifetime</th>\n",
       "      <td>0.013579</td>\n",
       "      <td>0.070921</td>\n",
       "      <td>0.061229</td>\n",
       "      <td>0.072721</td>\n",
       "      <td>0.170725</td>\n",
       "      <td>0.075853</td>\n",
       "      <td>0.164693</td>\n",
       "      <td>0.079028</td>\n",
       "      <td>0.161078</td>\n",
       "      <td>1.000000</td>\n",
       "      <td>0.112338</td>\n",
       "      <td>0.181975</td>\n",
       "      <td>-0.438220</td>\n",
       "      <td>0.730467</td>\n",
       "      <td>0.378399</td>\n",
       "    </tr>\n",
       "    <tr>\n",
       "      <th>Avg_class_frequency_total</th>\n",
       "      <td>0.014620</td>\n",
       "      <td>0.043127</td>\n",
       "      <td>0.024938</td>\n",
       "      <td>0.028063</td>\n",
       "      <td>0.096211</td>\n",
       "      <td>0.056695</td>\n",
       "      <td>0.119953</td>\n",
       "      <td>0.044426</td>\n",
       "      <td>0.085387</td>\n",
       "      <td>0.112338</td>\n",
       "      <td>1.000000</td>\n",
       "      <td>0.952739</td>\n",
       "      <td>-0.249715</td>\n",
       "      <td>0.128624</td>\n",
       "      <td>0.092330</td>\n",
       "    </tr>\n",
       "    <tr>\n",
       "      <th>Avg_class_frequency_current_month</th>\n",
       "      <td>0.009156</td>\n",
       "      <td>0.062664</td>\n",
       "      <td>0.045561</td>\n",
       "      <td>0.053768</td>\n",
       "      <td>0.159407</td>\n",
       "      <td>0.075923</td>\n",
       "      <td>0.183095</td>\n",
       "      <td>0.079570</td>\n",
       "      <td>0.147605</td>\n",
       "      <td>0.181975</td>\n",
       "      <td>0.952739</td>\n",
       "      <td>1.000000</td>\n",
       "      <td>-0.412348</td>\n",
       "      <td>0.214784</td>\n",
       "      <td>0.147355</td>\n",
       "    </tr>\n",
       "    <tr>\n",
       "      <th>Churn</th>\n",
       "      <td>0.000708</td>\n",
       "      <td>-0.128098</td>\n",
       "      <td>-0.157986</td>\n",
       "      <td>-0.162233</td>\n",
       "      <td>-0.389984</td>\n",
       "      <td>-0.175325</td>\n",
       "      <td>-0.404735</td>\n",
       "      <td>-0.198697</td>\n",
       "      <td>-0.381393</td>\n",
       "      <td>-0.438220</td>\n",
       "      <td>-0.249715</td>\n",
       "      <td>-0.412348</td>\n",
       "      <td>1.000000</td>\n",
       "      <td>-0.535178</td>\n",
       "      <td>-0.369139</td>\n",
       "    </tr>\n",
       "    <tr>\n",
       "      <th>Contract_period</th>\n",
       "      <td>0.007519</td>\n",
       "      <td>0.143519</td>\n",
       "      <td>0.241782</td>\n",
       "      <td>0.210782</td>\n",
       "      <td>0.779024</td>\n",
       "      <td>0.160233</td>\n",
       "      <td>0.195025</td>\n",
       "      <td>0.127776</td>\n",
       "      <td>0.791691</td>\n",
       "      <td>0.730467</td>\n",
       "      <td>0.128624</td>\n",
       "      <td>0.214784</td>\n",
       "      <td>-0.535178</td>\n",
       "      <td>1.000000</td>\n",
       "      <td>0.295825</td>\n",
       "    </tr>\n",
       "    <tr>\n",
       "      <th>Contract_renew_potential</th>\n",
       "      <td>0.016590</td>\n",
       "      <td>0.020710</td>\n",
       "      <td>0.035388</td>\n",
       "      <td>0.038764</td>\n",
       "      <td>0.015712</td>\n",
       "      <td>0.033988</td>\n",
       "      <td>0.150153</td>\n",
       "      <td>0.077465</td>\n",
       "      <td>0.089012</td>\n",
       "      <td>0.378399</td>\n",
       "      <td>0.092330</td>\n",
       "      <td>0.147355</td>\n",
       "      <td>-0.369139</td>\n",
       "      <td>0.295825</td>\n",
       "      <td>1.000000</td>\n",
       "    </tr>\n",
       "  </tbody>\n",
       "</table>\n",
       "</div>"
      ],
      "text/plain": [
       "                                     gender  Near_Location   Partner  \\\n",
       "gender                             1.000000       0.006699 -0.010463   \n",
       "Near_Location                      0.006699       1.000000 -0.005119   \n",
       "Partner                           -0.010463      -0.005119  1.000000   \n",
       "Promo_friends                     -0.005033       0.210964  0.451960   \n",
       "Contract_plan                      0.000502       0.150233  0.306166   \n",
       "Group_visits                       0.017879       0.154728  0.022710   \n",
       "Age                                0.013807       0.058358  0.047480   \n",
       "Avg_additional_charges_total      -0.009334       0.040761  0.022941   \n",
       "Month_to_end_contract             -0.001281       0.143961  0.294632   \n",
       "Lifetime                           0.013579       0.070921  0.061229   \n",
       "Avg_class_frequency_total          0.014620       0.043127  0.024938   \n",
       "Avg_class_frequency_current_month  0.009156       0.062664  0.045561   \n",
       "Churn                              0.000708      -0.128098 -0.157986   \n",
       "Contract_period                    0.007519       0.143519  0.241782   \n",
       "Contract_renew_potential           0.016590       0.020710  0.035388   \n",
       "\n",
       "                                   Promo_friends  Contract_plan  Group_visits  \\\n",
       "gender                                 -0.005033       0.000502      0.017879   \n",
       "Near_Location                           0.210964       0.150233      0.154728   \n",
       "Partner                                 0.451960       0.306166      0.022710   \n",
       "Promo_friends                           1.000000       0.244552      0.120170   \n",
       "Contract_plan                           0.244552       1.000000      0.169991   \n",
       "Group_visits                            0.120170       0.169991      1.000000   \n",
       "Age                                     0.050113       0.138249      0.080934   \n",
       "Avg_additional_charges_total            0.036898       0.111445      0.032079   \n",
       "Month_to_end_contract                   0.239553       0.973064      0.163703   \n",
       "Lifetime                                0.072721       0.170725      0.075853   \n",
       "Avg_class_frequency_total               0.028063       0.096211      0.056695   \n",
       "Avg_class_frequency_current_month       0.053768       0.159407      0.075923   \n",
       "Churn                                  -0.162233      -0.389984     -0.175325   \n",
       "Contract_period                         0.210782       0.779024      0.160233   \n",
       "Contract_renew_potential                0.038764       0.015712      0.033988   \n",
       "\n",
       "                                        Age  Avg_additional_charges_total  \\\n",
       "gender                             0.013807                     -0.009334   \n",
       "Near_Location                      0.058358                      0.040761   \n",
       "Partner                            0.047480                      0.022941   \n",
       "Promo_friends                      0.050113                      0.036898   \n",
       "Contract_plan                      0.138249                      0.111445   \n",
       "Group_visits                       0.080934                      0.032079   \n",
       "Age                                1.000000                      0.080240   \n",
       "Avg_additional_charges_total       0.080240                      1.000000   \n",
       "Month_to_end_contract              0.134511                      0.113958   \n",
       "Lifetime                           0.164693                      0.079028   \n",
       "Avg_class_frequency_total          0.119953                      0.044426   \n",
       "Avg_class_frequency_current_month  0.183095                      0.079570   \n",
       "Churn                             -0.404735                     -0.198697   \n",
       "Contract_period                    0.195025                      0.127776   \n",
       "Contract_renew_potential           0.150153                      0.077465   \n",
       "\n",
       "                                   Month_to_end_contract  Lifetime  \\\n",
       "gender                                         -0.001281  0.013579   \n",
       "Near_Location                                   0.143961  0.070921   \n",
       "Partner                                         0.294632  0.061229   \n",
       "Promo_friends                                   0.239553  0.072721   \n",
       "Contract_plan                                   0.973064  0.170725   \n",
       "Group_visits                                    0.163703  0.075853   \n",
       "Age                                             0.134511  0.164693   \n",
       "Avg_additional_charges_total                    0.113958  0.079028   \n",
       "Month_to_end_contract                           1.000000  0.161078   \n",
       "Lifetime                                        0.161078  1.000000   \n",
       "Avg_class_frequency_total                       0.085387  0.112338   \n",
       "Avg_class_frequency_current_month               0.147605  0.181975   \n",
       "Churn                                          -0.381393 -0.438220   \n",
       "Contract_period                                 0.791691  0.730467   \n",
       "Contract_renew_potential                        0.089012  0.378399   \n",
       "\n",
       "                                   Avg_class_frequency_total  \\\n",
       "gender                                              0.014620   \n",
       "Near_Location                                       0.043127   \n",
       "Partner                                             0.024938   \n",
       "Promo_friends                                       0.028063   \n",
       "Contract_plan                                       0.096211   \n",
       "Group_visits                                        0.056695   \n",
       "Age                                                 0.119953   \n",
       "Avg_additional_charges_total                        0.044426   \n",
       "Month_to_end_contract                               0.085387   \n",
       "Lifetime                                            0.112338   \n",
       "Avg_class_frequency_total                           1.000000   \n",
       "Avg_class_frequency_current_month                   0.952739   \n",
       "Churn                                              -0.249715   \n",
       "Contract_period                                     0.128624   \n",
       "Contract_renew_potential                            0.092330   \n",
       "\n",
       "                                   Avg_class_frequency_current_month  \\\n",
       "gender                                                      0.009156   \n",
       "Near_Location                                               0.062664   \n",
       "Partner                                                     0.045561   \n",
       "Promo_friends                                               0.053768   \n",
       "Contract_plan                                               0.159407   \n",
       "Group_visits                                                0.075923   \n",
       "Age                                                         0.183095   \n",
       "Avg_additional_charges_total                                0.079570   \n",
       "Month_to_end_contract                                       0.147605   \n",
       "Lifetime                                                    0.181975   \n",
       "Avg_class_frequency_total                                   0.952739   \n",
       "Avg_class_frequency_current_month                           1.000000   \n",
       "Churn                                                      -0.412348   \n",
       "Contract_period                                             0.214784   \n",
       "Contract_renew_potential                                    0.147355   \n",
       "\n",
       "                                      Churn  Contract_period  \\\n",
       "gender                             0.000708         0.007519   \n",
       "Near_Location                     -0.128098         0.143519   \n",
       "Partner                           -0.157986         0.241782   \n",
       "Promo_friends                     -0.162233         0.210782   \n",
       "Contract_plan                     -0.389984         0.779024   \n",
       "Group_visits                      -0.175325         0.160233   \n",
       "Age                               -0.404735         0.195025   \n",
       "Avg_additional_charges_total      -0.198697         0.127776   \n",
       "Month_to_end_contract             -0.381393         0.791691   \n",
       "Lifetime                          -0.438220         0.730467   \n",
       "Avg_class_frequency_total         -0.249715         0.128624   \n",
       "Avg_class_frequency_current_month -0.412348         0.214784   \n",
       "Churn                              1.000000        -0.535178   \n",
       "Contract_period                   -0.535178         1.000000   \n",
       "Contract_renew_potential          -0.369139         0.295825   \n",
       "\n",
       "                                   Contract_renew_potential  \n",
       "gender                                             0.016590  \n",
       "Near_Location                                      0.020710  \n",
       "Partner                                            0.035388  \n",
       "Promo_friends                                      0.038764  \n",
       "Contract_plan                                      0.015712  \n",
       "Group_visits                                       0.033988  \n",
       "Age                                                0.150153  \n",
       "Avg_additional_charges_total                       0.077465  \n",
       "Month_to_end_contract                              0.089012  \n",
       "Lifetime                                           0.378399  \n",
       "Avg_class_frequency_total                          0.092330  \n",
       "Avg_class_frequency_current_month                  0.147355  \n",
       "Churn                                             -0.369139  \n",
       "Contract_period                                    0.295825  \n",
       "Contract_renew_potential                           1.000000  "
      ]
     },
     "execution_count": 7,
     "metadata": {},
     "output_type": "execute_result"
    }
   ],
   "source": [
    "# Correlation matrix of features\n",
    "data.corr()"
   ]
  },
  {
   "cell_type": "code",
   "execution_count": 8,
   "id": "a94b3b54",
   "metadata": {},
   "outputs": [
    {
     "data": {
      "text/plain": [
       "<Axes: >"
      ]
     },
     "execution_count": 8,
     "metadata": {},
     "output_type": "execute_result"
    },
    {
     "data": {
      "image/png": "[encoded data removed]",
      "text/plain": [
       "<Figure size 640x480 with 2 Axes>"
      ]
     },
     "metadata": {},
     "output_type": "display_data"
    }
   ],
   "source": [
    "# A visualization of the correlation matrix\n",
    "sns.heatmap(data.corr())"
   ]
  },
  {
   "cell_type": "markdown",
   "id": "0b249158",
   "metadata": {},
   "source": [
    "To satisfy the assumption of minimal multicollinearity in logistic regression, highly correlated independent variables should be assessed and, where necessary, removed to improve model stability and interpretability."
   ]
  },
  {
   "cell_type": "code",
   "execution_count": 9,
   "id": "238bba73",
   "metadata": {},
   "outputs": [],
   "source": [
    "data = data.drop(columns = ['Month_to_end_contract','Contract_period','Avg_class_frequency_total'])"
   ]
  },
  {
   "cell_type": "code",
   "execution_count": 10,
   "id": "223f6447",
   "metadata": {},
   "outputs": [],
   "source": [
    "# Import packages for modeling\n",
    "from sklearn.model_selection import train_test_split\n",
    "from sklearn.model_selection import GridSearchCV\n",
    "from sklearn.metrics import accuracy_score,classification_report\n",
    "import sklearn.linear_model as skl\n",
    "from sklearn.preprocessing import StandardScaler\n",
    "from sklearn.linear_model import LogisticRegression\n",
    "from sklearn import metrics\n",
    "from ISLP import confusion_table"
   ]
  },
  {
   "cell_type": "code",
   "execution_count": 11,
   "id": "9639518b",
   "metadata": {},
   "outputs": [],
   "source": [
    "# Independent variable is Churn column (1 if churned, 0 if not)\n",
    "X = data.drop(columns = 'Churn')\n",
    "y = data['Churn']"
   ]
  },
  {
   "cell_type": "code",
   "execution_count": 12,
   "id": "d4cff8a1",
   "metadata": {},
   "outputs": [
    {
     "data": {
      "text/plain": [
       "gender                                0.499957\n",
       "Near_Location                         0.361711\n",
       "Partner                               0.499887\n",
       "Promo_friends                         0.461932\n",
       "Contract_plan                         4.549706\n",
       "Group_visits                          0.492301\n",
       "Age                                   3.258367\n",
       "Avg_additional_charges_total         96.355602\n",
       "Lifetime                              3.749267\n",
       "Avg_class_frequency_current_month     1.052906\n",
       "Contract_renew_potential              0.375019\n",
       "dtype: float64"
      ]
     },
     "execution_count": 12,
     "metadata": {},
     "output_type": "execute_result"
    }
   ],
   "source": [
    "# Verify whether scaling is necessary\n",
    "X.std()"
   ]
  },
  {
   "cell_type": "code",
   "execution_count": 13,
   "id": "b00ec899",
   "metadata": {},
   "outputs": [
    {
     "data": {
      "text/plain": [
       "Churn\n",
       "0    2939\n",
       "1    1061\n",
       "Name: count, dtype: int64"
      ]
     },
     "execution_count": 13,
     "metadata": {},
     "output_type": "execute_result"
    }
   ],
   "source": [
    "# Check for possible class imbalance in the response variable\n",
    "y.value_counts()"
   ]
  },
  {
   "cell_type": "code",
   "execution_count": 14,
   "id": "499c9cba",
   "metadata": {},
   "outputs": [],
   "source": [
    "# Split the data into training, validation and test sets with ratio: 60:20:20\n",
    "X_train, X_temp, y_train, y_temp = train_test_split(X, y, test_size = 0.4, stratify = y, random_state = 287)\n",
    "X_valid, X_test, y_valid, y_test = train_test_split(X_temp, y_temp, test_size = 0.5, stratify = y_temp, random_state= 287)"
   ]
  },
  {
   "cell_type": "code",
   "execution_count": 15,
   "id": "3d7121cb",
   "metadata": {},
   "outputs": [],
   "source": [
    "# Standardize features\n",
    "scaler = StandardScaler(with_mean=True, with_std=True, copy=True)\n",
    "scaler.fit(X_train)\n",
    "X_train_sc = scaler.transform(X_train)\n",
    "X_valid_sc = scaler.transform(X_valid)\n",
    "X_test_sc = scaler.transform(X_test)"
   ]
  },
  {
   "cell_type": "code",
   "execution_count": 16,
   "id": "8ac9f45f",
   "metadata": {},
   "outputs": [
    {
     "name": "stdout",
     "output_type": "stream",
     "text": [
      "Requirement already satisfied: imbalanced-learn in c:\\users\\thu\\anaconda3\\envs\\smm636\\lib\\site-packages (0.14.0)\n",
      "Requirement already satisfied: numpy<3,>=1.25.2 in c:\\users\\thu\\anaconda3\\envs\\smm636\\lib\\site-packages (from imbalanced-learn) (1.26.4)\n",
      "Requirement already satisfied: scipy<2,>=1.11.4 in c:\\users\\thu\\anaconda3\\envs\\smm636\\lib\\site-packages (from imbalanced-learn) (1.11.4)\n",
      "Requirement already satisfied: scikit-learn<2,>=1.4.2 in c:\\users\\thu\\anaconda3\\envs\\smm636\\lib\\site-packages (from imbalanced-learn) (1.6.1)\n",
      "Requirement already satisfied: joblib<2,>=1.2.0 in c:\\users\\thu\\anaconda3\\envs\\smm636\\lib\\site-packages (from imbalanced-learn) (1.4.2)\n",
      "Requirement already satisfied: threadpoolctl<4,>=2.0.0 in c:\\users\\thu\\anaconda3\\envs\\smm636\\lib\\site-packages (from imbalanced-learn) (3.5.0)\n",
      "Note: you may need to restart the kernel to use updated packages.\n"
     ]
    }
   ],
   "source": [
    "%pip install -U imbalanced-learn"
   ]
  },
  {
   "cell_type": "code",
   "execution_count": 17,
   "id": "0ba15dcf",
   "metadata": {},
   "outputs": [],
   "source": [
    "# Handle class imbalance using SMOTE approach on training set\n",
    "from imblearn.over_sampling import SMOTE\n",
    "X_resampled, y_resampled = SMOTE().fit_resample(X_train_sc, y_train)"
   ]
  },
  {
   "cell_type": "code",
   "execution_count": 18,
   "id": "24d7828f",
   "metadata": {},
   "outputs": [
    {
     "data": {
      "text/plain": [
       "Churn\n",
       "0    1763\n",
       "1    1763\n",
       "Name: count, dtype: int64"
      ]
     },
     "execution_count": 18,
     "metadata": {},
     "output_type": "execute_result"
    }
   ],
   "source": [
    "y_resampled.value_counts()"
   ]
  },
  {
   "cell_type": "markdown",
   "id": "5c23677e",
   "metadata": {},
   "source": [
    "**LOGISTIC REGRESSION**"
   ]
  },
  {
   "cell_type": "code",
   "execution_count": 19,
   "id": "40b2f084",
   "metadata": {},
   "outputs": [
    {
     "name": "stdout",
     "output_type": "stream",
     "text": [
      "Best parameters set found on validation set:\n",
      "{'C': 0.1}\n"
     ]
    }
   ],
   "source": [
    "# Train the model using Logistic Regression with LASSO penalty\n",
    "# Set tuning values for the parameter C\n",
    "tuned_parameters = [{\"C\": [0.001, 0.01, 0.1,1,10]}]\n",
    "# Tune the parameter by 10-fold cross-validation\n",
    "classifier_LR = GridSearchCV(LogisticRegression(penalty='l1', solver='liblinear', random_state = 287, max_iter=200), tuned_parameters, scoring='f1',cv=10)\n",
    "classifier_LR.fit(X_resampled, y_resampled)\n",
    "print(\"Best parameters set found on validation set:\")\n",
    "print(classifier_LR.best_params_)"
   ]
  },
  {
   "cell_type": "code",
   "execution_count": 20,
   "id": "9fe0baca",
   "metadata": {},
   "outputs": [
    {
     "data": {
      "image/png": "[encoded data removed]",
      "text/plain": [
       "<Figure size 640x480 with 1 Axes>"
      ]
     },
     "metadata": {},
     "output_type": "display_data"
    }
   ],
   "source": [
    "y_pred_prob1 = classifier_LR.predict_proba(X_valid_sc)[:,1]\n",
    "fpr,tpr,thresholds = metrics.roc_curve(y_valid, y_pred_prob1)\n",
    "plt.plot(fpr,tpr,linewidth=4)\n",
    "plt.show()"
   ]
  },
  {
   "cell_type": "code",
   "execution_count": 21,
   "id": "11130d64",
   "metadata": {},
   "outputs": [
    {
     "data": {
      "text/plain": [
       "0.9673902579899885"
      ]
     },
     "execution_count": 21,
     "metadata": {},
     "output_type": "execute_result"
    }
   ],
   "source": [
    "metrics.roc_auc_score(y_valid, y_pred_prob1)"
   ]
  },
  {
   "cell_type": "markdown",
   "id": "4fd07fa0",
   "metadata": {},
   "source": [
    "Youden's J statistics is chosen as a metric to determine the threshold for classification because it provides a trade-off between sensitivity and specificity. "
   ]
  },
  {
   "cell_type": "markdown",
   "id": "e1749ce1",
   "metadata": {},
   "source": [
    "\n",
    "\n",
    "$J = Sensitivity + Specificity – 1  = True Positive Rate – False Positive Rate$\n",
    "\n"
   ]
  },
  {
   "cell_type": "code",
   "execution_count": 22,
   "id": "162d2d19",
   "metadata": {},
   "outputs": [
    {
     "data": {
      "text/plain": [
       "array([0.        , 0.00471698, 0.11792453, 0.11622385, 0.16339366,\n",
       "       0.16169298, 0.32678732, 0.32508664, 0.34395456, 0.34225388,\n",
       "       0.44131049, 0.43960981, 0.47262867, 0.47092799, 0.49922988,\n",
       "       0.4975292 , 0.50696316, 0.50526248, 0.55714927, 0.55544859,\n",
       "       0.57431652, 0.57261584, 0.61035169, 0.60865101, 0.64166988,\n",
       "       0.63826851, 0.6665704 , 0.65976768, 0.67391862, 0.67221794,\n",
       "       0.70995379, 0.70825311, 0.72712104, 0.72542036, 0.7395713 ,\n",
       "       0.73616994, 0.74088692, 0.73748556, 0.74691952, 0.74521884,\n",
       "       0.7546528 , 0.75295212, 0.75766911, 0.75596843, 0.76540239,\n",
       "       0.76370171, 0.79672058, 0.78821717, 0.80236812, 0.79726608,\n",
       "       0.80670004, 0.801598  , 0.81103196, 0.80422924, 0.80894622,\n",
       "       0.80554486, 0.81497882, 0.81157746, 0.81629444, 0.81289308,\n",
       "       0.82232704, 0.81892568, 0.82364266, 0.81513926, 0.82457323,\n",
       "       0.82117186, 0.82588885, 0.82418817, 0.82890515, 0.82720447,\n",
       "       0.83192145, 0.82171737, 0.82643435, 0.80772686, 0.81244385,\n",
       "       0.80564112, 0.81035811, 0.80695674, 0.81167373, 0.79126556,\n",
       "       0.79598254, 0.79428186, 0.79899884, 0.76498524, 0.76970222,\n",
       "       0.76800154, 0.77271852, 0.75911308, 0.76383006, 0.75872802,\n",
       "       0.763445  , 0.75834296, 0.76305994, 0.76135926, 0.76607624,\n",
       "       0.73376332, 0.7384803 , 0.22487486, 0.22959184, 0.        ])"
      ]
     },
     "execution_count": 22,
     "metadata": {},
     "output_type": "execute_result"
    }
   ],
   "source": [
    "J1 = tpr - fpr\n",
    "J1"
   ]
  },
  {
   "cell_type": "code",
   "execution_count": 23,
   "id": "36c68387",
   "metadata": {},
   "outputs": [
    {
     "name": "stdout",
     "output_type": "stream",
     "text": [
      "The best threshold according to the J statistic is 0.4165274011486071\n"
     ]
    }
   ],
   "source": [
    "# Define the best threshold according to maximum J statistic\n",
    "print(\"The best threshold according to the J statistic is \" + str(thresholds[np.argmax(J1)]))"
   ]
  },
  {
   "cell_type": "code",
   "execution_count": 24,
   "id": "7431a102",
   "metadata": {},
   "outputs": [],
   "source": [
    "threshold = thresholds[np.argmax(J1)]\n",
    "y_validation_pred1= np.where(y_pred_prob1 < threshold, 0, 1)"
   ]
  },
  {
   "cell_type": "code",
   "execution_count": 25,
   "id": "60cb9bb5",
   "metadata": {},
   "outputs": [
    {
     "name": "stdout",
     "output_type": "stream",
     "text": [
      "Truth        0    1\n",
      "Predicted          \n",
      "0          528   14\n",
      "1           60  198\n"
     ]
    }
   ],
   "source": [
    "# Confusion Matrix\n",
    "print(confusion_table(y_validation_pred1,y_valid))"
   ]
  },
  {
   "cell_type": "code",
   "execution_count": 26,
   "id": "6735bf51",
   "metadata": {},
   "outputs": [
    {
     "name": "stdout",
     "output_type": "stream",
     "text": [
      "              precision    recall  f1-score   support\n",
      "\n",
      "           0       0.97      0.90      0.93       588\n",
      "           1       0.77      0.93      0.84       212\n",
      "\n",
      "    accuracy                           0.91       800\n",
      "   macro avg       0.87      0.92      0.89       800\n",
      "weighted avg       0.92      0.91      0.91       800\n",
      "\n"
     ]
    }
   ],
   "source": [
    "# Classification Report\n",
    "print(classification_report(y_valid, y_validation_pred1))"
   ]
  },
  {
   "cell_type": "markdown",
   "id": "47640074",
   "metadata": {},
   "source": [
    "**DECISION TREE**"
   ]
  },
  {
   "cell_type": "code",
   "execution_count": 27,
   "id": "bf0620ea",
   "metadata": {},
   "outputs": [],
   "source": [
    "from sklearn.tree import DecisionTreeClassifier\n",
    "from sklearn import tree\n",
    "from matplotlib.pyplot import subplots"
   ]
  },
  {
   "cell_type": "code",
   "execution_count": 28,
   "id": "78e5bf1e",
   "metadata": {},
   "outputs": [
    {
     "name": "stdout",
     "output_type": "stream",
     "text": [
      "Best parameters set found on validation set:\n",
      "{'max_leaf_nodes': 8}\n"
     ]
    }
   ],
   "source": [
    "# Using cross-validation to tune parameter 'alpha', which is the tree pruning parameter that controls the complexity of the tree\n",
    "tuned_parameters = [{\"max_leaf_nodes\": [i for i in range(2,11)]}]\n",
    "# Tune the parameter by 10-fold cross-validation\n",
    "classifier_DT = GridSearchCV(DecisionTreeClassifier(random_state = 287), tuned_parameters, scoring='f1',cv=10)\n",
    "# Fit the model\n",
    "classifier_DT.fit(X_resampled, y_resampled)\n",
    "print(\"Best parameters set found on validation set:\")\n",
    "print(classifier_DT.best_params_)"
   ]
  },
  {
   "cell_type": "code",
   "execution_count": 29,
   "id": "026abc88",
   "metadata": {},
   "outputs": [
    {
     "data": {
      "image/png": "[encoded data removed]",
      "text/plain": [
       "<Figure size 640x480 with 1 Axes>"
      ]
     },
     "metadata": {},
     "output_type": "display_data"
    }
   ],
   "source": [
    "y_pred_prob2 = classifier_DT.predict_proba(X_valid_sc)[:,1]\n",
    "fpr, tpr, thresholds = metrics.roc_curve(y_valid,y_pred_prob2)\n",
    "plt.plot(fpr, tpr, linewidth=4)\n",
    "plt.show()"
   ]
  },
  {
   "cell_type": "code",
   "execution_count": 30,
   "id": "0075d387",
   "metadata": {},
   "outputs": [
    {
     "data": {
      "text/plain": [
       "0.9030933127968169"
      ]
     },
     "execution_count": 30,
     "metadata": {},
     "output_type": "execute_result"
    }
   ],
   "source": [
    "# Calculate AUC \n",
    "metrics.roc_auc_score(y_valid, y_pred_prob2)"
   ]
  },
  {
   "cell_type": "code",
   "execution_count": 31,
   "id": "7340f50c",
   "metadata": {},
   "outputs": [
    {
     "data": {
      "text/plain": [
       "array([0.        , 0.57069054, 0.68104223, 0.7327044 , 0.74570017,\n",
       "       0.69313952, 0.69724682, 0.62976511, 0.        ])"
      ]
     },
     "execution_count": 31,
     "metadata": {},
     "output_type": "execute_result"
    }
   ],
   "source": [
    "# Calculate Youden's J statistic as a threshold\n",
    "J2 = tpr - fpr\n",
    "J2"
   ]
  },
  {
   "cell_type": "code",
   "execution_count": 32,
   "id": "13a84091",
   "metadata": {},
   "outputs": [
    {
     "name": "stdout",
     "output_type": "stream",
     "text": [
      "The best threshold according to the J statistic is 0.367816091954023\n"
     ]
    }
   ],
   "source": [
    "print(\"The best threshold according to the J statistic is \" + str(thresholds[np.argmax(J2)]))"
   ]
  },
  {
   "cell_type": "code",
   "execution_count": 33,
   "id": "4981c352",
   "metadata": {},
   "outputs": [
    {
     "name": "stdout",
     "output_type": "stream",
     "text": [
      "Truth        0    1\n",
      "Predicted          \n",
      "0          530   33\n",
      "1           58  179\n"
     ]
    }
   ],
   "source": [
    "threshold = thresholds[np.argmax(J2)]\n",
    "y_validation_pred2 = np.where(y_pred_prob2 < threshold, 0, 1)\n",
    "print(confusion_table(y_validation_pred2,y_valid))"
   ]
  },
  {
   "cell_type": "code",
   "execution_count": 34,
   "id": "cd2bbbf6",
   "metadata": {},
   "outputs": [
    {
     "name": "stdout",
     "output_type": "stream",
     "text": [
      "              precision    recall  f1-score   support\n",
      "\n",
      "           0       0.94      0.90      0.92       588\n",
      "           1       0.76      0.84      0.80       212\n",
      "\n",
      "    accuracy                           0.89       800\n",
      "   macro avg       0.85      0.87      0.86       800\n",
      "weighted avg       0.89      0.89      0.89       800\n",
      "\n"
     ]
    }
   ],
   "source": [
    "print(classification_report(y_valid, y_validation_pred2))"
   ]
  },
  {
   "cell_type": "markdown",
   "id": "5a2bc16a",
   "metadata": {},
   "source": [
    "**EVALUATION ON VALIDATION SET**"
   ]
  },
  {
   "cell_type": "markdown",
   "id": "5bfff6eb",
   "metadata": {},
   "source": [
    "- Both Logistic regression and Decision Tree models performed well on the validation set, achieving high accuracy of 91% and 89%, respectively.\n",
    "- In the context of customer churn analysis, False Negatives(FN) - a metric measuring the number of customers that were predicted to stay, but eventually churned, are more \"expensive\" than False Positives (FP). The results showed that Logistic Regression predicted fewer False Negatives (14) compared to Decision Tree (33), thus, giving a higher recall scores. \n",
    "- Therefore, Logistic Regression is the preferred model. \n",
    "- The better performance of Logistic Regression could be due to the fact that the two classes (Churn = 0 and Churn = 1) is linearly separable, and a model for complex, non-linear relationship like Decision Tree is not good at capturing this linearity. "
   ]
  },
  {
   "cell_type": "code",
   "execution_count": 35,
   "id": "8e0324db",
   "metadata": {},
   "outputs": [],
   "source": [
    "# Retrain Logistic Regression model on the full training + validation set\n",
    "X_full = pd.concat((pd.DataFrame(X_resampled, columns=X.columns), pd.DataFrame(X_valid_sc, columns=X.columns)))\n",
    "y_full = pd.concat((y_resampled, y_valid))"
   ]
  },
  {
   "cell_type": "code",
   "execution_count": 36,
   "id": "cfd9a770",
   "metadata": {},
   "outputs": [],
   "source": [
    "classifier_LR_final = LogisticRegression(penalty='l1', solver='liblinear', random_state = 287, C = classifier_LR.best_params_['C'])\n",
    "classifier_LR_final.fit(X_full, y_full)\n",
    "X_test_sc = pd.DataFrame(X_test_sc, columns=X_train.columns)\n",
    "y_pred_prob_final = classifier_LR_final.predict_proba(X_test_sc)[:,1]  "
   ]
  },
  {
   "cell_type": "code",
   "execution_count": 37,
   "id": "e0f71f5c",
   "metadata": {},
   "outputs": [
    {
     "data": {
      "image/png": "[encoded data removed]",
      "text/plain": [
       "<Figure size 640x480 with 1 Axes>"
      ]
     },
     "metadata": {},
     "output_type": "display_data"
    }
   ],
   "source": [
    "fpr, tpr, thresholds = metrics.roc_curve(y_test,y_pred_prob_final)\n",
    "plt.plot(fpr, tpr, linewidth=4)\n",
    "plt.show()"
   ]
  },
  {
   "cell_type": "code",
   "execution_count": 38,
   "id": "a1df702a",
   "metadata": {},
   "outputs": [
    {
     "data": {
      "text/plain": [
       "0.9693316005647542"
      ]
     },
     "execution_count": 38,
     "metadata": {},
     "output_type": "execute_result"
    }
   ],
   "source": [
    "# Calculate Area-Under-Curve (AUC) metric\n",
    "metrics.roc_auc_score(y_test, y_pred_prob_final)"
   ]
  },
  {
   "cell_type": "code",
   "execution_count": 39,
   "id": "b1d55232",
   "metadata": {},
   "outputs": [],
   "source": [
    "# Apply threshold \n",
    "threshold =  thresholds[np.argmax(J1)]\n",
    "y_test_pred = np.where(y_pred_prob_final > threshold, 1, 0)"
   ]
  },
  {
   "cell_type": "code",
   "execution_count": 40,
   "id": "6faa60e5",
   "metadata": {},
   "outputs": [
    {
     "name": "stdout",
     "output_type": "stream",
     "text": [
      "              precision    recall  f1-score   support\n",
      "\n",
      "           0       0.97      0.90      0.93       588\n",
      "           1       0.77      0.93      0.84       212\n",
      "\n",
      "    accuracy                           0.91       800\n",
      "   macro avg       0.87      0.91      0.89       800\n",
      "weighted avg       0.92      0.91      0.91       800\n",
      "\n"
     ]
    }
   ],
   "source": [
    "print(classification_report(y_test, y_test_pred))"
   ]
  },
  {
   "cell_type": "code",
   "execution_count": 41,
   "id": "077866bd",
   "metadata": {},
   "outputs": [
    {
     "name": "stdout",
     "output_type": "stream",
     "text": [
      "Truth        0    1\n",
      "Predicted          \n",
      "0          529   15\n",
      "1           59  197\n"
     ]
    }
   ],
   "source": [
    "# Confusion Matrix \n",
    "print(confusion_table(y_test_pred, y_test))"
   ]
  },
  {
   "cell_type": "code",
   "execution_count": 42,
   "id": "c7ce3d8f",
   "metadata": {},
   "outputs": [
    {
     "data": {
      "text/html": [
       "<div>\n",
       "<style scoped>\n",
       "    .dataframe tbody tr th:only-of-type {\n",
       "        vertical-align: middle;\n",
       "    }\n",
       "\n",
       "    .dataframe tbody tr th {\n",
       "        vertical-align: top;\n",
       "    }\n",
       "\n",
       "    .dataframe thead th {\n",
       "        text-align: right;\n",
       "    }\n",
       "</style>\n",
       "<table border=\"1\" class=\"dataframe\">\n",
       "  <thead>\n",
       "    <tr style=\"text-align: right;\">\n",
       "      <th></th>\n",
       "      <th>Variable</th>\n",
       "      <th>Coefficient</th>\n",
       "      <th>AbsCoefficient</th>\n",
       "    </tr>\n",
       "  </thead>\n",
       "  <tbody>\n",
       "    <tr>\n",
       "      <th>8</th>\n",
       "      <td>Lifetime</td>\n",
       "      <td>-3.096823</td>\n",
       "      <td>3.096823</td>\n",
       "    </tr>\n",
       "    <tr>\n",
       "      <th>4</th>\n",
       "      <td>Contract_plan</td>\n",
       "      <td>-1.452324</td>\n",
       "      <td>1.452324</td>\n",
       "    </tr>\n",
       "    <tr>\n",
       "      <th>9</th>\n",
       "      <td>Avg_class_frequency_current_month</td>\n",
       "      <td>-1.301143</td>\n",
       "      <td>1.301143</td>\n",
       "    </tr>\n",
       "    <tr>\n",
       "      <th>6</th>\n",
       "      <td>Age</td>\n",
       "      <td>-1.074719</td>\n",
       "      <td>1.074719</td>\n",
       "    </tr>\n",
       "    <tr>\n",
       "      <th>7</th>\n",
       "      <td>Avg_additional_charges_total</td>\n",
       "      <td>-0.526968</td>\n",
       "      <td>0.526968</td>\n",
       "    </tr>\n",
       "    <tr>\n",
       "      <th>5</th>\n",
       "      <td>Group_visits</td>\n",
       "      <td>-0.370278</td>\n",
       "      <td>0.370278</td>\n",
       "    </tr>\n",
       "    <tr>\n",
       "      <th>10</th>\n",
       "      <td>Contract_renew_potential</td>\n",
       "      <td>-0.301165</td>\n",
       "      <td>0.301165</td>\n",
       "    </tr>\n",
       "    <tr>\n",
       "      <th>3</th>\n",
       "      <td>Promo_friends</td>\n",
       "      <td>-0.251593</td>\n",
       "      <td>0.251593</td>\n",
       "    </tr>\n",
       "    <tr>\n",
       "      <th>1</th>\n",
       "      <td>Near_Location</td>\n",
       "      <td>-0.065262</td>\n",
       "      <td>0.065262</td>\n",
       "    </tr>\n",
       "    <tr>\n",
       "      <th>2</th>\n",
       "      <td>Partner</td>\n",
       "      <td>-0.031394</td>\n",
       "      <td>0.031394</td>\n",
       "    </tr>\n",
       "    <tr>\n",
       "      <th>0</th>\n",
       "      <td>gender</td>\n",
       "      <td>0.000000</td>\n",
       "      <td>0.000000</td>\n",
       "    </tr>\n",
       "  </tbody>\n",
       "</table>\n",
       "</div>"
      ],
      "text/plain": [
       "                             Variable  Coefficient  AbsCoefficient\n",
       "8                            Lifetime    -3.096823        3.096823\n",
       "4                       Contract_plan    -1.452324        1.452324\n",
       "9   Avg_class_frequency_current_month    -1.301143        1.301143\n",
       "6                                 Age    -1.074719        1.074719\n",
       "7        Avg_additional_charges_total    -0.526968        0.526968\n",
       "5                        Group_visits    -0.370278        0.370278\n",
       "10           Contract_renew_potential    -0.301165        0.301165\n",
       "3                       Promo_friends    -0.251593        0.251593\n",
       "1                       Near_Location    -0.065262        0.065262\n",
       "2                             Partner    -0.031394        0.031394\n",
       "0                              gender     0.000000        0.000000"
      ]
     },
     "execution_count": 42,
     "metadata": {},
     "output_type": "execute_result"
    }
   ],
   "source": [
    "# Feature importance\n",
    "summary = pd.DataFrame({\n",
    "    'Variable': X_full.columns,\n",
    "    'Coefficient': classifier_LR_final.coef_[0]\n",
    "})\n",
    "summary['AbsCoefficient'] = np.abs(summary['Coefficient'])\n",
    "summary = summary.sort_values(by='AbsCoefficient', ascending=False)\n",
    "summary"
   ]
  },
  {
   "cell_type": "markdown",
   "id": "fb6040e4",
   "metadata": {},
   "source": [
    "Top features that contribute to customer churn are: Lifetime, Contract_plan, Avg_class_frequency_current_month,Age. "
   ]
  }
 ],
 "metadata": {
  "kernelspec": {
   "display_name": "smm636",
   "language": "python",
   "name": "python3"
  },
  "language_info": {
   "codemirror_mode": {
    "name": "ipython",
    "version": 3
   },
   "file_extension": ".py",
   "mimetype": "text/x-python",
   "name": "python",
   "nbconvert_exporter": "python",
   "pygments_lexer": "ipython3",
   "version": "3.12.8"
  }
 },
 "nbformat": 4,
 "nbformat_minor": 5
}
